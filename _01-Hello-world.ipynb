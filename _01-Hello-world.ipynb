{
 "cells": [
  {
   "cell_type": "markdown",
   "id": "16674042",
   "metadata": {},
   "source": [
    "# What is Vyper ?"
   ]
  },
  {
   "cell_type": "markdown",
   "id": "1c5e3495",
   "metadata": {},
   "source": [
    "- [Referenced Material](https://docs.vyperlang.org/en/latest/index.html)\n",
    "- [Etherum Vyper](https://ethereum.org/en/developers/docs/smart-contracts/languages/#vyper)"
   ]
  },
  {
   "cell_type": "markdown",
   "id": "ecc98870",
   "metadata": {},
   "source": [
    "Vyper is a new language, using Pythonic Programing Language.\n",
    "Which we use to create Smart Contracts and tartgets the EVM Ethereum Virtual Machine.\n",
    "\n",
    "Vypers syntax has a simpler and intelligible Syntax simular to python allowing python developers assist with creating smart contracts.\n",
    "\n",
    "Vypers Pricipal;\n",
    "Is to make it virtually impossible for developers to code misleading programs.\n",
    "\n",
    "Which we will demonstrate here and future examples"
   ]
  },
  {
   "cell_type": "markdown",
   "id": "f1a02462",
   "metadata": {},
   "source": [
    "# Introduction To Vyper Contracts"
   ]
  },
  {
   "cell_type": "markdown",
   "id": "13f59583",
   "metadata": {},
   "source": [
    "To start off we need to setup our environment with a single Pip Install, as there is a presumption that you have jupyter running or reading this via a IDE.\n",
    "\n",
    "first we need to run the following command to install Vyper."
   ]
  },
  {
   "cell_type": "markdown",
   "id": "a2cfb978",
   "metadata": {},
   "source": [
    "```shell\n",
    "    pip install vyper\n",
    "```"
   ]
  },
  {
   "cell_type": "markdown",
   "id": "a3bf9933",
   "metadata": {},
   "source": [
    "Next we can setup a local file called *01_hello_world.vy* .vy is the extention of Vyper files.\n",
    "\n",
    "Then we specify the version we are using for compling in the top of the file as demonstrated below."
   ]
  },
  {
   "cell_type": "markdown",
   "id": "38e9b6a3",
   "metadata": {},
   "source": [
    "```vyper\n",
    "   # @version ^0.3.0\n",
    "```"
   ]
  },
  {
   "cell_type": "markdown",
   "id": "ae200523",
   "metadata": {},
   "source": [
    "Next we can add the following code to the file;"
   ]
  },
  {
   "cell_type": "markdown",
   "id": "0b44c882",
   "metadata": {},
   "source": [
    "```vyper\n",
    "\n",
    "# @version ^0.3.0\n",
    "\n",
    "greet: public(String[100])\n",
    "\n",
    "@external\n",
    "def __init__():\n",
    "    self.greet = \"Hello World\"\n",
    "```"
   ]
  },
  {
   "cell_type": "markdown",
   "id": "559d6ac3",
   "metadata": {},
   "source": [
    "Normally when we call the `Public` function we need to do some authentication otherwise anyone can use this smart contract, but we will deploy it to a internal test network and we arn't transfering any funds.\n",
    "\n",
    "next we need to create the compiled contract via the command line as shown below"
   ]
  },
  {
   "cell_type": "markdown",
   "id": "d861db41",
   "metadata": {},
   "source": [
    "```bash\n",
    "$ vyper 01_hello_world.vy\n",
    "```"
   ]
  },
  {
   "cell_type": "markdown",
   "id": "116cfea7",
   "metadata": {},
   "source": [
    "And we will also need the ABI"
   ]
  },
  {
   "cell_type": "markdown",
   "id": "37c792be",
   "metadata": {},
   "source": [
    "```bash\n",
    "$ vyper -f abi 01_hello_world.vy\n",
    "```"
   ]
  }
 ],
 "metadata": {
  "kernelspec": {
   "display_name": "Python 3 (ipykernel)",
   "language": "python",
   "name": "python3"
  },
  "language_info": {
   "codemirror_mode": {
    "name": "ipython",
    "version": 3
   },
   "file_extension": ".py",
   "mimetype": "text/x-python",
   "name": "python",
   "nbconvert_exporter": "python",
   "pygments_lexer": "ipython3",
   "version": "3.9.16"
  }
 },
 "nbformat": 4,
 "nbformat_minor": 5
}
